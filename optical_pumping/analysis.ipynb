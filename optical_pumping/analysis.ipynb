{
 "cells": [
  {
   "cell_type": "code",
   "execution_count": 1,
   "metadata": {},
   "outputs": [],
   "source": [
    "import numpy as np\n",
    "\n",
    "def unique(list1):\n",
    "\n",
    "    # initialize a null list\n",
    "    unique_list = []\n",
    "\n",
    "    # traverse for all elements\n",
    "    for x in list1:\n",
    "        # check if exists in unique_list or not\n",
    "        if x not in unique_list:\n",
    "            unique_list.append(x)\n",
    "    return unique_list"
   ]
  },
  {
   "cell_type": "markdown",
   "metadata": {},
   "source": [
    "# step-1: \n",
    "\n",
    "at low M field use $E = g_f \\mu_B B  m_F$, to get $g_f$, then compare with theoratical value of $g_f = \\pm $ 1/3 for 85 and $\\pm 1/2$ for 87 \n",
    "\n",
    "$g_f = $Eh/\\mu_B B = $. also affirmed by the theoratical prediction of frequency ratio $E(85)/E(87) = g_f(85)/g_f(87)=2/3$, and absorption ratio is related to population of 85 and 87 (the sample contain more 85)\n"
   ]
  },
  {
   "cell_type": "markdown",
   "metadata": {},
   "source": [
    "$g_F = \\frac{E}{\\mu_B B m_F}= \\frac{E}{\\mu_B  B}$"
   ]
  },
  {
   "cell_type": "code",
   "execution_count": 2,
   "metadata": {},
   "outputs": [],
   "source": [
    "# B = 0.06*1e-3 # T\n",
    "B = 0.09*1e-3 # T\n",
    "\n",
    "muB_in_frequency = 14 # GHz / T"
   ]
  },
  {
   "cell_type": "code",
   "execution_count": 3,
   "metadata": {},
   "outputs": [
    {
     "data": {
      "text/plain": [
       "0.30158730158730157"
      ]
     },
     "execution_count": 3,
     "metadata": {},
     "output_type": "execute_result"
    }
   ],
   "source": [
    "frequency = 380 #kHz\n",
    "frequency / muB_in_frequency / B *1e-6"
   ]
  },
  {
   "cell_type": "code",
   "execution_count": 4,
   "metadata": {},
   "outputs": [
    {
     "data": {
      "text/plain": [
       "0.4682539682539683"
      ]
     },
     "execution_count": 4,
     "metadata": {},
     "output_type": "execute_result"
    }
   ],
   "source": [
    "frequency = 590 #kHz\n",
    "frequency / muB_in_frequency / B *1e-6"
   ]
  },
  {
   "cell_type": "markdown",
   "metadata": {},
   "source": [
    "# low field, derive g factors\n",
    "\n",
    "total angular momemtum $F = I \\pm J$, where $J=1/2$ is the electron spin\n",
    "\n",
    "for $^{87}Rb$ $I = 3/2$, hyperfine levels are $F = 1,2$\n",
    "\n",
    "for  $^{85}Rb$ $I = 5/2$, hyperfine levels are $F = 2,3$\n"
   ]
  },
  {
   "cell_type": "code",
   "execution_count": 36,
   "metadata": {},
   "outputs": [],
   "source": [
    "def gJ(J, S, L):\n",
    "    return 1+(J*(J+1)+S*(S+1)-L*(L+1))/(2*J*(J+1))\n",
    "def gF(gJ, F, J, I):\n",
    "    return gJ*(F*(F+1) + J*(J+1)-I*(I+1))/(2*F*(F+1))"
   ]
  },
  {
   "cell_type": "code",
   "execution_count": 38,
   "metadata": {},
   "outputs": [
    {
     "data": {
      "text/plain": [
       "-0.3333333333333333"
      ]
     },
     "execution_count": 38,
     "metadata": {},
     "output_type": "execute_result"
    }
   ],
   "source": [
    "# 85 Rb\n",
    "J = 1/2\n",
    "S = 1/2\n",
    "L = 0\n",
    "F = 2\n",
    "I = 5/2\n",
    "gj = gJ(J, S, L)\n",
    "gF(gj, F, J, I)"
   ]
  },
  {
   "cell_type": "code",
   "execution_count": 40,
   "metadata": {},
   "outputs": [
    {
     "data": {
      "text/plain": [
       "0.3333333333333333"
      ]
     },
     "execution_count": 40,
     "metadata": {},
     "output_type": "execute_result"
    }
   ],
   "source": [
    "# 85 Rb\n",
    "J = 1/2\n",
    "S = 1/2\n",
    "L = 0\n",
    "F = 3\n",
    "I = 5/2\n",
    "gj = gJ(J, S, L)\n",
    "gF(gj, F, J, I)"
   ]
  },
  {
   "cell_type": "code",
   "execution_count": 42,
   "metadata": {},
   "outputs": [
    {
     "data": {
      "text/plain": [
       "-0.5"
      ]
     },
     "execution_count": 42,
     "metadata": {},
     "output_type": "execute_result"
    }
   ],
   "source": [
    "# 87 Rb\n",
    "J = 1/2\n",
    "S = 1/2\n",
    "L = 0\n",
    "F = 1\n",
    "I = 3/2\n",
    "gj = gJ(J, S, L)\n",
    "gF(gj, F, J, I)"
   ]
  },
  {
   "cell_type": "code",
   "execution_count": 32,
   "metadata": {},
   "outputs": [
    {
     "data": {
      "text/plain": [
       "0.5"
      ]
     },
     "execution_count": 32,
     "metadata": {},
     "output_type": "execute_result"
    }
   ],
   "source": [
    "# 87 Rb\n",
    "J = 1/2\n",
    "S = 1/2\n",
    "L = 0\n",
    "F = 2\n",
    "I = 3/2\n",
    "gj = gJ(J, S, L)\n",
    "gF(gj, F, J, I) "
   ]
  },
  {
   "cell_type": "code",
   "execution_count": 77,
   "metadata": {},
   "outputs": [],
   "source": [
    "muB_in_frequency = 14 # GHz / T\n",
    "\n",
    "def weekfield_frequency(B,#in mili Tesla\n",
    "              mF,\n",
    "              gf):\n",
    "    return  gf * muB_in_frequency * B  * mF # in MHz"
   ]
  },
  {
   "cell_type": "code",
   "execution_count": 78,
   "metadata": {},
   "outputs": [
    {
     "data": {
      "text/plain": [
       "0.00041176470588235307"
      ]
     },
     "execution_count": 78,
     "metadata": {},
     "output_type": "execute_result"
    }
   ],
   "source": [
    "hyperfine_spacing = 6.8\n",
    "B = 1e-1\n",
    "x = 2 /hyperfine_spacing * muB_in_frequency * B  * 1e-3  # unitless\n",
    "x"
   ]
  },
  {
   "cell_type": "code",
   "execution_count": 79,
   "metadata": {},
   "outputs": [],
   "source": [
    "def strongfield_transition_frequency(mF1,\n",
    "                                     mF2,\n",
    "                                     B, # in mT\n",
    "                                     I):\n",
    "    assert abs(mF1 - mF2) == 1\n",
    "    if I == 3/2:\n",
    "        hyperfine_spacing = 6.8 #GHz   \n",
    "    elif I == 5/2:\n",
    "        hyperfine_spacing = 3.1 #GHz   \n",
    "    gj = 2\n",
    "    gi = 0\n",
    "    x = (gj+gi) /hyperfine_spacing * muB_in_frequency* B*1e-3# unitless\n",
    "    return  hyperfine_spacing /2 * ( np.sqrt(1+4*mF1/(2*I + I)*x + x**2)  - np.sqrt(1+4*mF2/(2*I + I)*x + x**2)   ) *1e3 # MHz"
   ]
  },
  {
   "cell_type": "code",
   "execution_count": 88,
   "metadata": {},
   "outputs": [
    {
     "data": {
      "text/plain": [
       "(1.28, 1.32)"
      ]
     },
     "execution_count": 88,
     "metadata": {},
     "output_type": "execute_result"
    },
    {
     "data": {
      "image/png": "[encoded data removed]",
      "text/plain": [
       "<Figure size 640x480 with 1 Axes>"
      ]
     },
     "metadata": {},
     "output_type": "display_data"
    }
   ],
   "source": [
    "import matplotlib.pyplot as plt\n",
    "\n",
    "heuristical_lw = {\n",
    "    3/2: {\n",
    "        (1,2):0.1,\n",
    "        (0,1):0.3,\n",
    "        (-1,0):0.6,\n",
    "        (-2,-1):1.2,\n",
    "    },\n",
    "    5/2: {\n",
    "        (2,3):0.1,\n",
    "        (1,2):0.15,\n",
    "        (0,1):0.15,\n",
    "        (-1,0):0.4,\n",
    "        (-2,-1):0.6,\n",
    "        (-3,-2):1,\n",
    "    }\n",
    "}\n",
    "\n",
    "B_list = np.linspace(0,2,100) # in mT\n",
    "for I, name in zip([3/2,5/2],\n",
    "                      ['87','85']):\n",
    "    \n",
    "    if I == 3/2:\n",
    "        gf = 0.5\n",
    "    else:\n",
    "        gf = 1/3\n",
    "\n",
    "    for (mF1,mF2),lw in heuristical_lw[I].items():\n",
    "        strong_field_freq = []\n",
    "        for B in B_list:\n",
    "            strong_field_freq.append(np.abs(strongfield_transition_frequency(mF1=mF1,mF2=mF2,B =B, I = I)))\n",
    "        plt.plot(B_list,strong_field_freq,label =f'{mF1}->{mF2}',lw=1,color = 'blue' if I == 3/2 else 'red')\n",
    "    \n",
    "\n",
    "        weak_field_freq = []\n",
    "        for B in B_list:\n",
    "            weak_field_freq.append(np.abs(weekfield_frequency(B,mF1,gf) - weekfield_frequency(B,mF2,gf)))\n",
    "        plt.plot(B_list,weak_field_freq,label =f'{mF1}->{mF2}',lw=1,linestyle=':',color = 'blue' if I == 3/2 else 'red')\n",
    "\n",
    "\n",
    "plt.xlabel('B (mT)')\n",
    "plt.ylabel('Zeeman shift, (MHz)')\n",
    "plt.tight_layout()\n",
    "\n",
    "plt.ylim(8,9.3)\n",
    "plt.xlim(1.28,1.32)"
   ]
  },
  {
   "cell_type": "code",
   "execution_count": 89,
   "metadata": {},
   "outputs": [
    {
     "data": {
      "image/png": "[encoded data removed]",
      "text/plain": [
       "<Figure size 640x480 with 1 Axes>"
      ]
     },
     "metadata": {},
     "output_type": "display_data"
    }
   ],
   "source": [
    "import matplotlib.pyplot as plt\n",
    "\n",
    "heuristical_lw = {\n",
    "    3/2: {\n",
    "        (1,2):0.1,\n",
    "        (0,1):0.3,\n",
    "        (-1,0):0.6,\n",
    "        (-2,-1):1.2,\n",
    "    },\n",
    "    5/2: {\n",
    "        (2,3):0.1,\n",
    "        (1,2):0.15,\n",
    "        (0,1):0.15,\n",
    "        (-1,0):0.4,\n",
    "        (-2,-1):0.6,\n",
    "        (-3,-2):1,\n",
    "    }\n",
    "}\n",
    "\n",
    "B_list = np.linspace(0,1,100) # in mT\n",
    "for I, name in zip([3/2,5/2],\n",
    "                      ['87','85']):\n",
    "    \n",
    "    if I == 3/2:\n",
    "        gf = 0.5\n",
    "    else:\n",
    "        gf = 1/3\n",
    "\n",
    "    for (mF1,mF2),lw in heuristical_lw[I].items():\n",
    "        strong_field_freq = []\n",
    "        for B in B_list:\n",
    "            strong_field_freq.append(np.abs(strongfield_transition_frequency(mF1=mF1,mF2=mF2,B =B, I = I)))\n",
    "        plt.plot(B_list,strong_field_freq,label =f'{mF1}->{mF2}',lw=1,color = 'blue' if I == 3/2 else 'red')\n",
    "    \n",
    "\n",
    "        weak_field_freq = []\n",
    "        for B in B_list:\n",
    "            weak_field_freq.append(np.abs(weekfield_frequency(B,mF1,gf) - weekfield_frequency(B,mF2,gf)))\n",
    "        plt.plot(B_list,weak_field_freq,label =f'{mF1}->{mF2}',lw=1,linestyle=':',color = 'blue' if I == 3/2 else 'red')\n",
    "\n",
    "\n",
    "plt.xlabel('B (mT)')\n",
    "plt.ylabel('Zeeman shift, (MHz)')\n",
    "plt.tight_layout()\n",
    "\n",
    "# plt.ylim(8,9.3)\n",
    "# plt.xlim(1.28,1.32)"
   ]
  },
  {
   "cell_type": "code",
   "execution_count": null,
   "metadata": {},
   "outputs": [],
   "source": []
  }
 ],
 "metadata": {
  "kernelspec": {
   "display_name": "oscar",
   "language": "python",
   "name": "python3"
  },
  "language_info": {
   "codemirror_mode": {
    "name": "ipython",
    "version": 3
   },
   "file_extension": ".py",
   "mimetype": "text/x-python",
   "name": "python",
   "nbconvert_exporter": "python",
   "pygments_lexer": "ipython3",
   "version": "3.10.14"
  },
  "orig_nbformat": 4
 },
 "nbformat": 4,
 "nbformat_minor": 2
}
