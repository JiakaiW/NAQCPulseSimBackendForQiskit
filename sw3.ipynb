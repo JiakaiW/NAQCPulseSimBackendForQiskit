{
 "cells": [
  {
   "cell_type": "code",
   "execution_count": 1,
   "metadata": {},
   "outputs": [
    {
     "name": "stdout",
     "output_type": "stream",
     "text": [
      "Requirement already satisfied: qutip in /Users/jiakaiwang/miniconda3/envs/newest_qutip/lib/python3.10/site-packages (5.0.4)\n",
      "Requirement already satisfied: qutip_qip in /Users/jiakaiwang/miniconda3/envs/newest_qutip/lib/python3.10/site-packages (0.3.2)\n",
      "Requirement already satisfied: matplotlib in /Users/jiakaiwang/miniconda3/envs/newest_qutip/lib/python3.10/site-packages (3.9.2)\n",
      "Requirement already satisfied: qiskit in /Users/jiakaiwang/miniconda3/envs/newest_qutip/lib/python3.10/site-packages (1.2.4)\n",
      "Requirement already satisfied: qutip-qtrl in /Users/jiakaiwang/miniconda3/envs/newest_qutip/lib/python3.10/site-packages (0.1.3)\n",
      "Requirement already satisfied: tqdm in /Users/jiakaiwang/miniconda3/envs/newest_qutip/lib/python3.10/site-packages (4.67.0)\n",
      "Requirement already satisfied: numpy>=1.22 in /Users/jiakaiwang/miniconda3/envs/newest_qutip/lib/python3.10/site-packages (from qutip) (2.1.3)\n",
      "Requirement already satisfied: scipy>=1.9 in /Users/jiakaiwang/miniconda3/envs/newest_qutip/lib/python3.10/site-packages (from qutip) (1.14.1)\n",
      "Requirement already satisfied: packaging in /Users/jiakaiwang/miniconda3/envs/newest_qutip/lib/python3.10/site-packages (from qutip) (24.1)\n",
      "Requirement already satisfied: contourpy>=1.0.1 in /Users/jiakaiwang/miniconda3/envs/newest_qutip/lib/python3.10/site-packages (from matplotlib) (1.3.0)\n",
      "Requirement already satisfied: cycler>=0.10 in /Users/jiakaiwang/miniconda3/envs/newest_qutip/lib/python3.10/site-packages (from matplotlib) (0.12.1)\n",
      "Requirement already satisfied: fonttools>=4.22.0 in /Users/jiakaiwang/miniconda3/envs/newest_qutip/lib/python3.10/site-packages (from matplotlib) (4.54.1)\n",
      "Requirement already satisfied: kiwisolver>=1.3.1 in /Users/jiakaiwang/miniconda3/envs/newest_qutip/lib/python3.10/site-packages (from matplotlib) (1.4.7)\n",
      "Requirement already satisfied: pillow>=8 in /Users/jiakaiwang/miniconda3/envs/newest_qutip/lib/python3.10/site-packages (from matplotlib) (11.0.0)\n",
      "Requirement already satisfied: pyparsing>=2.3.1 in /Users/jiakaiwang/miniconda3/envs/newest_qutip/lib/python3.10/site-packages (from matplotlib) (3.2.0)\n",
      "Requirement already satisfied: python-dateutil>=2.7 in /Users/jiakaiwang/miniconda3/envs/newest_qutip/lib/python3.10/site-packages (from matplotlib) (2.9.0)\n",
      "Requirement already satisfied: rustworkx>=0.15.0 in /Users/jiakaiwang/miniconda3/envs/newest_qutip/lib/python3.10/site-packages (from qiskit) (0.15.1)\n",
      "Requirement already satisfied: sympy>=1.3 in /Users/jiakaiwang/miniconda3/envs/newest_qutip/lib/python3.10/site-packages (from qiskit) (1.13.3)\n",
      "Requirement already satisfied: dill>=0.3 in /Users/jiakaiwang/miniconda3/envs/newest_qutip/lib/python3.10/site-packages (from qiskit) (0.3.9)\n",
      "Requirement already satisfied: stevedore>=3.0.0 in /Users/jiakaiwang/miniconda3/envs/newest_qutip/lib/python3.10/site-packages (from qiskit) (5.3.0)\n",
      "Requirement already satisfied: typing-extensions in /Users/jiakaiwang/miniconda3/envs/newest_qutip/lib/python3.10/site-packages (from qiskit) (4.12.2)\n",
      "Requirement already satisfied: symengine<0.14,>=0.11 in /Users/jiakaiwang/miniconda3/envs/newest_qutip/lib/python3.10/site-packages (from qiskit) (0.13.0)\n",
      "Requirement already satisfied: six>=1.5 in /Users/jiakaiwang/miniconda3/envs/newest_qutip/lib/python3.10/site-packages (from python-dateutil>=2.7->matplotlib) (1.16.0)\n",
      "Requirement already satisfied: pbr>=2.0.0 in /Users/jiakaiwang/miniconda3/envs/newest_qutip/lib/python3.10/site-packages (from stevedore>=3.0.0->qiskit) (6.1.0)\n",
      "Requirement already satisfied: mpmath<1.4,>=1.1.0 in /Users/jiakaiwang/miniconda3/envs/newest_qutip/lib/python3.10/site-packages (from sympy>=1.3->qiskit) (1.3.0)\n"
     ]
    }
   ],
   "source": [
    "! pip install qutip qutip_qip matplotlib qiskit qutip-qtrl tqdm"
   ]
  },
  {
   "cell_type": "code",
   "execution_count": 2,
   "metadata": {},
   "outputs": [],
   "source": [
    "from qiskit import QuantumCircuit\n",
    "from qiskit.visualization import plot_histogram\n",
    "from qutip_qip.qiskit import QiskitCircuitSimulator,QiskitPulseSimulator\n",
    "\n",
    "import numpy as np\n",
    "import matplotlib.pyplot as plt\n",
    "import qutip\n",
    "from qutip import basis, fidelity,sigmax, sigmay, sigmaz,identity,rand_unitary,tensor,mesolve,Qobj, Bloch\n",
    "from qutip.qip.operations import  rx,ry,rz,cz_gate\n",
    "from typing import List\n",
    "from tqdm import tqdm\n",
    "from qutip_qip.device import Processor, Model\n",
    "from qiskit import QuantumCircuit\n",
    "from qiskit.compiler import transpile\n",
    "import qiskit\n"
   ]
  },
  {
   "cell_type": "markdown",
   "metadata": {},
   "source": [
    "## Exercise 1"
   ]
  },
  {
   "cell_type": "code",
   "execution_count": 3,
   "metadata": {},
   "outputs": [],
   "source": [
    "GROUND = basis(4, 0)\n",
    "EXCITED = basis(4, 1)\n",
    "LEAKAGE = basis(4, 2)\n",
    "RYDBERG = basis(4, 3)\n",
    "\n",
    "class minimal_processor(Processor):\n",
    "\n",
    "    basis_gates=['rx','rz','cz']\n",
    "    qbt_dim = 4\n",
    "    \n",
    "    def __init__(self,num_qubits=2,gamma_r = 1 / 540):\n",
    "        \n",
    "        self.model=Model(num_qubits=num_qubits,\n",
    "                         dims=[self.qbt_dim for _ in range(num_qubits)])\n",
    "        self.num_qubits=num_qubits\n",
    "        self.get_c_ops(gamma_r)\n",
    "\n",
    "    def evolve(self,\n",
    "               state:qutip.Qobj,\n",
    "                ins: qiskit._accelerate.circuit.CircuitInstruction):\n",
    "        name = ins.operation.name\n",
    "        param = next(iter(ins.operation.params), None)\n",
    "        qbts = [qubit._index for qubit in ins.qubits]\n",
    "\n",
    "        if name == 'rx':\n",
    "            Omega_01 = 1\n",
    "            return mesolve(\n",
    "                    H=self.id_wrap(Omega_01/2 * (GROUND * EXCITED.dag() + EXCITED * GROUND.dag()),\n",
    "                                   qbts[0]), \n",
    "                    rho0=state, \n",
    "                    tlist=np.array([0, param[0]/Omega_01]), \n",
    "                    c_ops=self.collapse_ops, \n",
    "                    options={'store_final_state':True}\n",
    "                )\n",
    "        elif name == 'rz':\n",
    "            delta_1 = 1\n",
    "            return mesolve(\n",
    "                    H=self.id_wrap(delta_1 * EXCITED * EXCITED.dag(),\n",
    "                                   qbts[0]), \n",
    "                    rho0=state, \n",
    "                    tlist=np.array([0,param[0]/delta_1]), \n",
    "                    c_ops=self.collapse_ops, \n",
    "                    options={'store_final_state':True}\n",
    "                )\n",
    "        elif name == 'cz':\n",
    "            t_tot = 0.540 #microsecond, which is the total duration of the gate protocol\n",
    "            B=200*2*np.pi #interaction strength\n",
    "            omegaMax = 17*2*np.pi #Mhz\n",
    "            deltaMax = 23*2*np.pi #Mhz\n",
    "            tau = 0.175*t_tot \n",
    "            a = np.exp(-(t_tot/4)**4/tau**4)\n",
    "            def Rabi_frequency(t,):\n",
    "                return (t<t_tot/2)*omegaMax*(np.exp(-(t-t_tot/4)**4/tau**4)-a)/(1-a)    \\\n",
    "                +    (t>=t_tot/2)*omegaMax*(np.exp(-(t-3*t_tot/4)**4/tau**4)-a)/(1-a)\n",
    "            def Detunning(t):\n",
    "                return (t<t_tot/2)*(-1)*deltaMax*np.cos(2*np.pi*t/t_tot) \\\n",
    "                        +    (t>=t_tot/2)*deltaMax*np.cos(2*np.pi*t/t_tot)\n",
    "            H = []\n",
    "            for idx in qbts:\n",
    "                H.append([self.id_wrap(0.5*RYDBERG*EXCITED.dag()+0.5*EXCITED*RYDBERG.dag(), \n",
    "                                       idx),\n",
    "                          Rabi_frequency])\n",
    "                H.append([self.id_wrap(RYDBERG*RYDBERG.dag(), \n",
    "                                       idx),\n",
    "                          Detunning])\n",
    "                \n",
    "            H.append(\n",
    "                [B*tensor(RYDBERG,RYDBERG)*tensor(RYDBERG,RYDBERG).dag()]\n",
    "            ) # This assumes the system involves two qubit only.\n",
    "\n",
    "            return mesolve(\n",
    "                    H=H, \n",
    "                    rho0=state, \n",
    "                    tlist=np.array([0, t_tot]), \n",
    "                    c_ops=self.collapse_ops, \n",
    "                    options={'store_final_state':True}\n",
    "                )\n",
    "            \n",
    "    \n",
    "    def run_state(self,\n",
    "                  init_state:qutip.Qobj) -> qutip.solver.Result:\n",
    "        if init_state.isket:\n",
    "            assert init_state.dims == [[self.qbt_dim for _ in range(self.num_qubits)],[1 for _ in range(self.num_qubits)]]\n",
    "        else:\n",
    "            assert init_state.dims == [[self.qbt_dim for _ in range(self.num_qubits)],[self.qbt_dim for _ in range(self.num_qubits)]]\n",
    "        state = init_state\n",
    "        for ins in tqdm(self.qiskit_circ_transpiled.data,'Simulating gate'):\n",
    "            result = self.evolve(state,ins)\n",
    "            state = result.final_state\n",
    "        return result\n",
    "    \n",
    "    def generate_init_processor_state(self)->qutip.Qobj:\n",
    "        # Always initialize in zero\n",
    "        return tensor([basis(self.qbt_dim, 0) for _ in range(self.num_qubits)])\n",
    "    \n",
    "    def id_wrap(self,op,idx):\n",
    "        return tensor([qutip.identity(self.qbt_dim) for _ in range(0,idx)]+[op]+[qutip.identity(self.qbt_dim) for _ in range(idx+1,self.num_qubits)])\n",
    "    \n",
    "    def get_c_ops(self,gamma_r):\n",
    "        L0 = np.sqrt(1/16 * gamma_r) * (GROUND * RYDBERG.dag())\n",
    "        L1 = np.sqrt(1/16 * gamma_r) * (EXCITED * RYDBERG.dag())\n",
    "        Ld = np.sqrt(7/8 * gamma_r) * (LEAKAGE * RYDBERG.dag())\n",
    "        single_q_c_ops = [L0, L1, Ld]\n",
    "\n",
    "        self.collapse_ops = []\n",
    "        for q in range(self.num_qubits):\n",
    "            for c_op in single_q_c_ops:\n",
    "                self.collapse_ops.append(self.id_wrap(c_op,q))\n",
    "    \n",
    "    def load_circuit(self,\n",
    "                     qutip_circuit:qiskit.QuantumCircuit)->None:\n",
    "        self.qiskit_circ_transpiled = transpile(qutip_circuit,basis_gates=self.basis_gates)\n",
    "    \n",
    "    def get_final_circuit_state(self,result:qutip.solver.Result)->qutip.Qobj:\n",
    "        rho = result.final_state\n",
    "        if rho.isket:\n",
    "            rho = qutip.ket2dm(rho)\n",
    "        rho_arr = rho.full()\n",
    "        rho_2lvl=rho_arr.reshape(4,4,4,4)[:2,:2,:2,:2]\n",
    "        return Qobj(rho_2lvl.reshape(4,4),dims=[[2,2],[2,2]])"
   ]
  },
  {
   "cell_type": "code",
   "execution_count": 4,
   "metadata": {},
   "outputs": [],
   "source": [
    "processor = minimal_processor(2)\n",
    "pulse_backend = QiskitPulseSimulator(processor)"
   ]
  },
  {
   "cell_type": "code",
   "execution_count": 5,
   "metadata": {},
   "outputs": [
    {
     "ename": "AttributeError",
     "evalue": "'QubitCircuit' object has no attribute 'qubits'",
     "output_type": "error",
     "traceback": [
      "\u001b[0;31m---------------------------------------------------------------------------\u001b[0m",
      "\u001b[0;31mAttributeError\u001b[0m                            Traceback (most recent call last)",
      "Cell \u001b[0;32mIn[5], line 4\u001b[0m\n\u001b[1;32m      2\u001b[0m circ1\u001b[38;5;241m.\u001b[39mh(\u001b[38;5;241m0\u001b[39m)\n\u001b[1;32m      3\u001b[0m circ1\u001b[38;5;241m.\u001b[39mh(\u001b[38;5;241m1\u001b[39m)\n\u001b[0;32m----> 4\u001b[0m job \u001b[38;5;241m=\u001b[39m \u001b[43mpulse_backend\u001b[49m\u001b[38;5;241;43m.\u001b[39;49m\u001b[43mrun\u001b[49m\u001b[43m(\u001b[49m\u001b[43mcirc1\u001b[49m\u001b[43m)\u001b[49m\n\u001b[1;32m      5\u001b[0m result \u001b[38;5;241m=\u001b[39m job\u001b[38;5;241m.\u001b[39mresult()\n\u001b[1;32m      6\u001b[0m result\u001b[38;5;241m.\u001b[39mdata()[\u001b[38;5;124m'\u001b[39m\u001b[38;5;124mstatevector\u001b[39m\u001b[38;5;124m'\u001b[39m]\u001b[38;5;241m.\u001b[39mdata \n",
      "File \u001b[0;32m~/miniconda3/envs/newest_qutip/lib/python3.10/site-packages/qutip_qip/qiskit/backend.py:95\u001b[0m, in \u001b[0;36mQiskitSimulatorBase.run\u001b[0;34m(self, qiskit_circuit, **run_options)\u001b[0m\n\u001b[1;32m     85\u001b[0m qutip_circ \u001b[38;5;241m=\u001b[39m convert_qiskit_circuit(\n\u001b[1;32m     86\u001b[0m     qiskit_circuit,\n\u001b[1;32m     87\u001b[0m     allow_custom_gate\u001b[38;5;241m=\u001b[39m\u001b[38;5;28mself\u001b[39m\u001b[38;5;241m.\u001b[39moptions\u001b[38;5;241m.\u001b[39mallow_custom_gate,\n\u001b[1;32m     88\u001b[0m )\n\u001b[1;32m     90\u001b[0m job_id \u001b[38;5;241m=\u001b[39m \u001b[38;5;28mstr\u001b[39m(uuid\u001b[38;5;241m.\u001b[39muuid4())\n\u001b[1;32m     92\u001b[0m job \u001b[38;5;241m=\u001b[39m Job(\n\u001b[1;32m     93\u001b[0m     backend\u001b[38;5;241m=\u001b[39m\u001b[38;5;28mself\u001b[39m,\n\u001b[1;32m     94\u001b[0m     job_id\u001b[38;5;241m=\u001b[39mjob_id,\n\u001b[0;32m---> 95\u001b[0m     result\u001b[38;5;241m=\u001b[39m\u001b[38;5;28;43mself\u001b[39;49m\u001b[38;5;241;43m.\u001b[39;49m\u001b[43m_run_job\u001b[49m\u001b[43m(\u001b[49m\u001b[43mjob_id\u001b[49m\u001b[43m,\u001b[49m\u001b[43m \u001b[49m\u001b[43mqutip_circ\u001b[49m\u001b[43m)\u001b[49m,\n\u001b[1;32m     96\u001b[0m )\n\u001b[1;32m     97\u001b[0m \u001b[38;5;28;01mreturn\u001b[39;00m job\n",
      "File \u001b[0;32m~/miniconda3/envs/newest_qutip/lib/python3.10/site-packages/qutip_qip/qiskit/backend.py:428\u001b[0m, in \u001b[0;36mQiskitPulseSimulator._run_job\u001b[0;34m(self, job_id, qutip_circuit)\u001b[0m\n\u001b[1;32m    409\u001b[0m \u001b[38;5;250m\u001b[39m\u001b[38;5;124;03m\"\"\"\u001b[39;00m\n\u001b[1;32m    410\u001b[0m \u001b[38;5;124;03mRun a :class:`.QubitCircuit` on the Pulse Simulator.\u001b[39;00m\n\u001b[1;32m    411\u001b[0m \n\u001b[0;32m   (...)\u001b[0m\n\u001b[1;32m    424\u001b[0m \u001b[38;5;124;03m    Result of the simulation.\u001b[39;00m\n\u001b[1;32m    425\u001b[0m \u001b[38;5;124;03m\"\"\"\u001b[39;00m\n\u001b[1;32m    426\u001b[0m zero_state \u001b[38;5;241m=\u001b[39m \u001b[38;5;28mself\u001b[39m\u001b[38;5;241m.\u001b[39mprocessor\u001b[38;5;241m.\u001b[39mgenerate_init_processor_state()\n\u001b[0;32m--> 428\u001b[0m \u001b[38;5;28;43mself\u001b[39;49m\u001b[38;5;241;43m.\u001b[39;49m\u001b[43mprocessor\u001b[49m\u001b[38;5;241;43m.\u001b[39;49m\u001b[43mload_circuit\u001b[49m\u001b[43m(\u001b[49m\u001b[43mqutip_circuit\u001b[49m\u001b[43m)\u001b[49m\n\u001b[1;32m    429\u001b[0m result \u001b[38;5;241m=\u001b[39m \u001b[38;5;28mself\u001b[39m\u001b[38;5;241m.\u001b[39mprocessor\u001b[38;5;241m.\u001b[39mrun_state(zero_state)\n\u001b[1;32m    431\u001b[0m final_state \u001b[38;5;241m=\u001b[39m \u001b[38;5;28mself\u001b[39m\u001b[38;5;241m.\u001b[39mprocessor\u001b[38;5;241m.\u001b[39mget_final_circuit_state(result\u001b[38;5;241m.\u001b[39mstates[\u001b[38;5;241m-\u001b[39m\u001b[38;5;241m1\u001b[39m])\n",
      "Cell \u001b[0;32mIn[3], line 112\u001b[0m, in \u001b[0;36mminimal_processor.load_circuit\u001b[0;34m(self, qutip_circuit)\u001b[0m\n\u001b[1;32m    110\u001b[0m \u001b[38;5;28;01mdef\u001b[39;00m \u001b[38;5;21mload_circuit\u001b[39m(\u001b[38;5;28mself\u001b[39m,\n\u001b[1;32m    111\u001b[0m                  qutip_circuit:qiskit\u001b[38;5;241m.\u001b[39mQuantumCircuit)\u001b[38;5;241m-\u001b[39m\u001b[38;5;241m>\u001b[39m\u001b[38;5;28;01mNone\u001b[39;00m:\n\u001b[0;32m--> 112\u001b[0m     \u001b[38;5;28mself\u001b[39m\u001b[38;5;241m.\u001b[39mqiskit_circ_transpiled \u001b[38;5;241m=\u001b[39m \u001b[43mtranspile\u001b[49m\u001b[43m(\u001b[49m\u001b[43mqutip_circuit\u001b[49m\u001b[43m,\u001b[49m\u001b[43mbasis_gates\u001b[49m\u001b[38;5;241;43m=\u001b[39;49m\u001b[38;5;28;43mself\u001b[39;49m\u001b[38;5;241;43m.\u001b[39;49m\u001b[43mbasis_gates\u001b[49m\u001b[43m)\u001b[49m\n",
      "File \u001b[0;32m~/miniconda3/envs/newest_qutip/lib/python3.10/site-packages/qiskit/compiler/transpiler.py:361\u001b[0m, in \u001b[0;36mtranspile\u001b[0;34m(circuits, backend, basis_gates, inst_map, coupling_map, backend_properties, initial_layout, layout_method, routing_method, translation_method, scheduling_method, instruction_durations, dt, approximation_degree, timing_constraints, seed_transpiler, optimization_level, callback, output_name, unitary_synthesis_method, unitary_synthesis_plugin_config, target, hls_config, init_method, optimization_method, ignore_backend_supplied_default_methods, num_processes)\u001b[0m\n\u001b[1;32m    359\u001b[0m output_name \u001b[38;5;241m=\u001b[39m _parse_output_name(output_name, circuits)\n\u001b[1;32m    360\u001b[0m coupling_map \u001b[38;5;241m=\u001b[39m _parse_coupling_map(coupling_map)\n\u001b[0;32m--> 361\u001b[0m \u001b[43m_check_circuits_coupling_map\u001b[49m\u001b[43m(\u001b[49m\u001b[43mcircuits\u001b[49m\u001b[43m,\u001b[49m\u001b[43m \u001b[49m\u001b[43mcoupling_map\u001b[49m\u001b[43m,\u001b[49m\u001b[43m \u001b[49m\u001b[43mbackend\u001b[49m\u001b[43m)\u001b[49m\n\u001b[1;32m    363\u001b[0m \u001b[38;5;66;03m# Edge cases require using the old model (loose constraints) instead of building a target,\u001b[39;00m\n\u001b[1;32m    364\u001b[0m \u001b[38;5;66;03m# but we don't populate the passmanager config with loose constraints unless it's one of\u001b[39;00m\n\u001b[1;32m    365\u001b[0m \u001b[38;5;66;03m# the known edge cases to control the execution path.\u001b[39;00m\n\u001b[1;32m    366\u001b[0m pm \u001b[38;5;241m=\u001b[39m generate_preset_pass_manager(\n\u001b[1;32m    367\u001b[0m     optimization_level,\n\u001b[1;32m    368\u001b[0m     target\u001b[38;5;241m=\u001b[39mtarget,\n\u001b[0;32m   (...)\u001b[0m\n\u001b[1;32m    388\u001b[0m     dt\u001b[38;5;241m=\u001b[39mdt,\n\u001b[1;32m    389\u001b[0m )\n",
      "File \u001b[0;32m~/miniconda3/envs/newest_qutip/lib/python3.10/site-packages/qiskit/compiler/transpiler.py:413\u001b[0m, in \u001b[0;36m_check_circuits_coupling_map\u001b[0;34m(circuits, cmap, backend)\u001b[0m\n\u001b[1;32m    409\u001b[0m     max_qubits \u001b[38;5;241m=\u001b[39m backend\u001b[38;5;241m.\u001b[39mnum_qubits\n\u001b[1;32m    411\u001b[0m \u001b[38;5;28;01mfor\u001b[39;00m circuit \u001b[38;5;129;01min\u001b[39;00m circuits:\n\u001b[1;32m    412\u001b[0m     \u001b[38;5;66;03m# If coupling_map is not None or num_qubits == 1\u001b[39;00m\n\u001b[0;32m--> 413\u001b[0m     num_qubits \u001b[38;5;241m=\u001b[39m \u001b[38;5;28mlen\u001b[39m(\u001b[43mcircuit\u001b[49m\u001b[38;5;241;43m.\u001b[39;49m\u001b[43mqubits\u001b[49m)\n\u001b[1;32m    414\u001b[0m     \u001b[38;5;28;01mif\u001b[39;00m max_qubits \u001b[38;5;129;01mis\u001b[39;00m \u001b[38;5;129;01mnot\u001b[39;00m \u001b[38;5;28;01mNone\u001b[39;00m \u001b[38;5;129;01mand\u001b[39;00m (num_qubits \u001b[38;5;241m>\u001b[39m max_qubits):\n\u001b[1;32m    415\u001b[0m         \u001b[38;5;28;01mraise\u001b[39;00m CircuitTooWideForTarget(\n\u001b[1;32m    416\u001b[0m             \u001b[38;5;124mf\u001b[39m\u001b[38;5;124m\"\u001b[39m\u001b[38;5;124mNumber of qubits (\u001b[39m\u001b[38;5;132;01m{\u001b[39;00mnum_qubits\u001b[38;5;132;01m}\u001b[39;00m\u001b[38;5;124m) in \u001b[39m\u001b[38;5;132;01m{\u001b[39;00mcircuit\u001b[38;5;241m.\u001b[39mname\u001b[38;5;132;01m}\u001b[39;00m\u001b[38;5;124m \u001b[39m\u001b[38;5;124m\"\u001b[39m\n\u001b[1;32m    417\u001b[0m             \u001b[38;5;124mf\u001b[39m\u001b[38;5;124m\"\u001b[39m\u001b[38;5;124mis greater than maximum (\u001b[39m\u001b[38;5;132;01m{\u001b[39;00mmax_qubits\u001b[38;5;132;01m}\u001b[39;00m\u001b[38;5;124m) in the coupling_map\u001b[39m\u001b[38;5;124m\"\u001b[39m\n\u001b[1;32m    418\u001b[0m         )\n",
      "\u001b[0;31mAttributeError\u001b[0m: 'QubitCircuit' object has no attribute 'qubits'"
     ]
    }
   ],
   "source": [
    "circ1 = QuantumCircuit(2)\n",
    "circ1.h(0)\n",
    "circ1.h(1)\n",
    "job = pulse_backend.run(circ1)\n",
    "result = job.result()\n",
    "result.data()['statevector'].data \n",
    "result.data()['counts']"
   ]
  },
  {
   "cell_type": "code",
   "execution_count": 6,
   "metadata": {},
   "outputs": [],
   "source": [
    "from qutip_qip.qiskit.converter import convert_qiskit_circuit\n",
    "\n",
    "qutip_circ = convert_qiskit_circuit(\n",
    "            circ1,\n",
    "            allow_custom_gate=pulse_backend.options.allow_custom_gate,\n",
    "        )\n"
   ]
  },
  {
   "cell_type": "code",
   "execution_count": 11,
   "metadata": {},
   "outputs": [
    {
     "data": {
      "text/plain": [
       "'<qutip_qip.circuit.circuit.QubitCircuit object at 0x12b6ff160>'"
      ]
     },
     "execution_count": 11,
     "metadata": {},
     "output_type": "execute_result"
    }
   ],
   "source": [
    "qutip_circ.__repr__()"
   ]
  },
  {
   "cell_type": "code",
   "execution_count": null,
   "metadata": {},
   "outputs": [
    {
     "data": {
      "text/plain": [
       "['N',\n",
       " '__class__',\n",
       " '__delattr__',\n",
       " '__dict__',\n",
       " '__dir__',\n",
       " '__doc__',\n",
       " '__eq__',\n",
       " '__format__',\n",
       " '__ge__',\n",
       " '__getattribute__',\n",
       " '__gt__',\n",
       " '__hash__',\n",
       " '__init__',\n",
       " '__init_subclass__',\n",
       " '__le__',\n",
       " '__lt__',\n",
       " '__module__',\n",
       " '__ne__',\n",
       " '__new__',\n",
       " '__reduce__',\n",
       " '__reduce_ex__',\n",
       " '__repr__',\n",
       " '__setattr__',\n",
       " '__sizeof__',\n",
       " '__str__',\n",
       " '__subclasshook__',\n",
       " '__weakref__',\n",
       " '_raw_img',\n",
       " '_to_qasm',\n",
       " 'add_1q_gate',\n",
       " 'add_circuit',\n",
       " 'add_gate',\n",
       " 'add_gates',\n",
       " 'add_measurement',\n",
       " 'add_state',\n",
       " 'adjacent_gates',\n",
       " 'compute_unitary',\n",
       " 'dims',\n",
       " 'draw',\n",
       " 'gates',\n",
       " 'input_states',\n",
       " 'latex_code',\n",
       " 'name',\n",
       " 'num_cbits',\n",
       " 'output_states',\n",
       " 'png',\n",
       " 'propagators',\n",
       " 'remove_gate_or_measurement',\n",
       " 'resolve_gates',\n",
       " 'reverse_circuit',\n",
       " 'reverse_states',\n",
       " 'run',\n",
       " 'run_statistics',\n",
       " 'svg',\n",
       " 'user_gates']"
      ]
     },
     "execution_count": 61,
     "metadata": {},
     "output_type": "execute_result"
    }
   ],
   "source": [
    "dir(qutip_circ)"
   ]
  },
  {
   "cell_type": "code",
   "execution_count": null,
   "metadata": {},
   "outputs": [],
   "source": [
    "backend = QiskitCircuitSimulator()\n"
   ]
  },
  {
   "cell_type": "code",
   "execution_count": null,
   "metadata": {},
   "outputs": [],
   "source": [
    "circ2 = QuantumCircuit(2)\n",
    "circ2.h(0)\n",
    "circ2.cx(0,1)"
   ]
  },
  {
   "cell_type": "code",
   "execution_count": null,
   "metadata": {},
   "outputs": [],
   "source": [
    "circ3 = QuantumCircuit(3)\n",
    "circ3.h(0)\n",
    "circ3.cx(0,1)\n",
    "circ3.cx(1,2)"
   ]
  }
 ],
 "metadata": {
  "kernelspec": {
   "display_name": "newest_qutip",
   "language": "python",
   "name": "python3"
  },
  "language_info": {
   "codemirror_mode": {
    "name": "ipython",
    "version": 3
   },
   "file_extension": ".py",
   "mimetype": "text/x-python",
   "name": "python",
   "nbconvert_exporter": "python",
   "pygments_lexer": "ipython3",
   "version": "3.10.15"
  }
 },
 "nbformat": 4,
 "nbformat_minor": 2
}
