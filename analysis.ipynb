{
 "cells": [
  {
   "cell_type": "markdown",
   "metadata": {},
   "source": [
    "# step-1: \n",
    "\n",
    "at low M field use $E = g_f \\mu_B B  m_F$, to get $g_f$, then compare with theoratical value of $g_f = \\pm $ 1/3 for 85 and $\\pm 1/2$ for 87 \n",
    "\n",
    "$g_f = $Eh/\\mu_B B = $. also affirmed by the theoratical prediction of frequency ratio $E(85)/E(87) = g_f(85)/g_f(87)=2/3$, and absorption ratio is related to population of 85 and 87 (the sample contain more 85)\n",
    "\n",
    "# step-2:\n",
    "\n"
   ]
  },
  {
   "cell_type": "code",
   "execution_count": null,
   "metadata": {},
   "outputs": [],
   "source": [
    "def HyperfineEnery(F,m, I):\n",
    "    hyperfine_spacing = None\n",
    "\n",
    "    return -hyperfine_spacing/(2*(2*I+1)) \n",
    "    pass"
   ]
  },
  {
   "cell_type": "code",
   "execution_count": null,
   "metadata": {},
   "outputs": [],
   "source": []
  }
 ],
 "metadata": {
  "kernelspec": {
   "display_name": "tensorflow",
   "language": "python",
   "name": "python3"
  },
  "language_info": {
   "codemirror_mode": {
    "name": "ipython",
    "version": 3
   },
   "file_extension": ".py",
   "mimetype": "text/x-python",
   "name": "python",
   "nbconvert_exporter": "python",
   "pygments_lexer": "ipython3",
   "version": "3.10.14"
  },
  "orig_nbformat": 4
 },
 "nbformat": 4,
 "nbformat_minor": 2
}
